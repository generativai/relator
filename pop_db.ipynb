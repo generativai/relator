{
 "cells": [
  {
   "cell_type": "code",
   "execution_count": 1,
   "metadata": {},
   "outputs": [],
   "source": [
    "import os\n",
    "from datetime import datetime\n",
    "import re\n",
    "import pandas as pd\n",
    "import psycopg2\n",
    "from dotenv import load_dotenv\n",
    "\n",
    "load_dotenv()\n",
    "\n",
    "DB_USER = os.getenv(\"DB_USER\")\n",
    "DB_PASS = os.getenv(\"DB_PASS\")\n",
    "DB_HOST = os.getenv(\"DB_HOST\")\n",
    "DB_PORT = os.getenv(\"DB_PORT\")\n",
    "DB_NAME = os.getenv(\"DEB_NAME\")\n"
   ]
  },
  {
   "cell_type": "code",
   "execution_count": 2,
   "metadata": {},
   "outputs": [
    {
     "data": {
      "text/html": [
       "<div>\n",
       "<style scoped>\n",
       "    .dataframe tbody tr th:only-of-type {\n",
       "        vertical-align: middle;\n",
       "    }\n",
       "\n",
       "    .dataframe tbody tr th {\n",
       "        vertical-align: top;\n",
       "    }\n",
       "\n",
       "    .dataframe thead th {\n",
       "        text-align: right;\n",
       "    }\n",
       "</style>\n",
       "<table border=\"1\" class=\"dataframe\">\n",
       "  <thead>\n",
       "    <tr style=\"text-align: right;\">\n",
       "      <th></th>\n",
       "      <th>message_id</th>\n",
       "      <th>event</th>\n",
       "      <th>groupJid</th>\n",
       "      <th>sender_id</th>\n",
       "      <th>push_name</th>\n",
       "      <th>message_type</th>\n",
       "      <th>message_content</th>\n",
       "      <th>media_url</th>\n",
       "      <th>base64_data</th>\n",
       "      <th>reaction</th>\n",
       "      <th>...</th>\n",
       "      <th>logo</th>\n",
       "      <th>mined_urls</th>\n",
       "      <th>contact_email</th>\n",
       "      <th>social_media_links</th>\n",
       "      <th>status</th>\n",
       "      <th>description</th>\n",
       "      <th>project_created_at</th>\n",
       "      <th>project_updated_at</th>\n",
       "      <th>estimated_deadline</th>\n",
       "      <th>closed_at</th>\n",
       "    </tr>\n",
       "  </thead>\n",
       "  <tbody>\n",
       "    <tr>\n",
       "      <th>71</th>\n",
       "      <td>9639c225-2b4d-42c8-9f80-c3907761310c</td>\n",
       "      <td>messages.upsert</td>\n",
       "      <td>171622593129764632@g.us</td>\n",
       "      <td>5511913358299</td>\n",
       "      <td>Cliente 11913358299</td>\n",
       "      <td>texto</td>\n",
       "      <td>mini projetor</td>\n",
       "      <td>NaN</td>\n",
       "      <td>NaN</td>\n",
       "      <td>NaN</td>\n",
       "      <td>...</td>\n",
       "      <td>NaN</td>\n",
       "      <td>NaN</td>\n",
       "      <td>NaN</td>\n",
       "      <td>NaN</td>\n",
       "      <td>ativo</td>\n",
       "      <td>NaN</td>\n",
       "      <td>2024-02-19 02:23:17.387</td>\n",
       "      <td>2024-10-04 02:23:17.387113</td>\n",
       "      <td>NaN</td>\n",
       "      <td>NaN</td>\n",
       "    </tr>\n",
       "  </tbody>\n",
       "</table>\n",
       "<p>1 rows × 44 columns</p>\n",
       "</div>"
      ],
      "text/plain": [
       "                              message_id            event  \\\n",
       "71  9639c225-2b4d-42c8-9f80-c3907761310c  messages.upsert   \n",
       "\n",
       "                   groupJid      sender_id            push_name message_type  \\\n",
       "71  171622593129764632@g.us  5511913358299  Cliente 11913358299        texto   \n",
       "\n",
       "   message_content  media_url  base64_data  reaction  ...  logo  mined_urls  \\\n",
       "71   mini projetor        NaN          NaN       NaN  ...   NaN         NaN   \n",
       "\n",
       "    contact_email  social_media_links  status  description  \\\n",
       "71            NaN                 NaN   ativo          NaN   \n",
       "\n",
       "         project_created_at          project_updated_at  estimated_deadline  \\\n",
       "71  2024-02-19 02:23:17.387  2024-10-04 02:23:17.387113                 NaN   \n",
       "\n",
       "   closed_at  \n",
       "71       NaN  \n",
       "\n",
       "[1 rows x 44 columns]"
      ]
     },
     "execution_count": 2,
     "metadata": {},
     "output_type": "execute_result"
    }
   ],
   "source": [
    "df = pd.read_csv('171622593129764632@g.us_2024-01-22.csv')\n",
    "df.sample()"
   ]
  },
  {
   "cell_type": "code",
   "execution_count": null,
   "metadata": {},
   "outputs": [],
   "source": []
  }
 ],
 "metadata": {
  "kernelspec": {
   "display_name": "venv",
   "language": "python",
   "name": "python3"
  },
  "language_info": {
   "codemirror_mode": {
    "name": "ipython",
    "version": 3
   },
   "file_extension": ".py",
   "mimetype": "text/x-python",
   "name": "python",
   "nbconvert_exporter": "python",
   "pygments_lexer": "ipython3",
   "version": "3.10.12"
  }
 },
 "nbformat": 4,
 "nbformat_minor": 2
}
